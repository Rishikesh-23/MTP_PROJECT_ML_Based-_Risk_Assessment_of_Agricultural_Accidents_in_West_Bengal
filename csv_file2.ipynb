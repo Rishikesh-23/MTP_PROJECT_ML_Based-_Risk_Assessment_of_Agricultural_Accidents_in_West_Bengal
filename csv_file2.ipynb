{
 "cells": [
  {
   "cell_type": "code",
   "execution_count": 3,
   "metadata": {},
   "outputs": [
    {
     "name": "stdout",
     "output_type": "stream",
     "text": [
      "Synthetic data generated and saved to 'synthetic_accident_data.csv'\n"
     ]
    }
   ],
   "source": [
    "import pandas as pd\n",
    "import random\n",
    "\n",
    "def generate_synthetic_data(num_rows=500):\n",
    "    # Define the categories for each column\n",
    "    district_names = [\"Nadia\", \"Jalpaiguri\", \"South Twenty Four Parganas\"]\n",
    "    accident_places = [\"Field\", \"Farm Road\"]\n",
    "    genders = [\"Male\", \"Female\"]\n",
    "    cat_descs = [\"Tractor\", \"Combine Harvester\", \"Thresher\"]\n",
    "    subcat_descs = [\"Type A\", \"Type B\", \"Type C\", \"Type D\"]\n",
    "    equipment_names = [\"Tractor Model X\", \"Harvester Model Y\", \"Thresher Model Z\"]\n",
    "    causes_of_accident = [\"Overturning\", \"Falling\", \"Entanglement\"]\n",
    "    reasons = [\"Mechanical Failure\", \"Weather Conditions\", \"Operator Error\"]\n",
    "\n",
    "    # Generate synthetic data\n",
    "    data = {\n",
    "        \"DistrictName\": [random.choice(district_names) for _ in range(num_rows)],\n",
    "        \"AccidentPlace\": [random.choice(accident_places) for _ in range(num_rows)],\n",
    "        \"Gender\": [random.choice(genders) for _ in range(num_rows)],\n",
    "        \"CatDesc\": [random.choice(cat_descs) for _ in range(num_rows)],\n",
    "        \"SubCatDesc\": [random.choice(subcat_descs) for _ in range(num_rows)],\n",
    "        \"EquipmentName\": [random.choice(equipment_names) for _ in range(num_rows)],\n",
    "        \"CauseOfAccident\": [random.choice(causes_of_accident) for _ in range(num_rows)],\n",
    "        \"Reason\": [random.choice(reasons) for _ in range(num_rows)],\n",
    "        # Introduce imbalance in AccidentType\n",
    "        \"AccidentType\": [1 if random.random() > 0.7 else 0 for _ in range(num_rows)],\n",
    "    }\n",
    "\n",
    "    # Convert to DataFrame\n",
    "    df = pd.DataFrame(data)\n",
    "\n",
    "    # Encode categorical features\n",
    "    for col in df.columns:\n",
    "        if df[col].dtype == 'object':\n",
    "            df[col] = pd.factorize(df[col])[0]\n",
    "\n",
    "    return df\n",
    "\n",
    "# Generate the data and save it to a CSV\n",
    "synthetic_data = generate_synthetic_data(num_rows=500)\n",
    "synthetic_data.to_csv(\"synthetic_accident_data.csv\", index=False)\n",
    "print(\"Synthetic data generated and saved to 'synthetic_accident_data.csv'\")\n"
   ]
  },
  {
   "cell_type": "code",
   "execution_count": null,
   "metadata": {},
   "outputs": [],
   "source": []
  }
 ],
 "metadata": {
  "kernelspec": {
   "display_name": "base",
   "language": "python",
   "name": "python3"
  },
  "language_info": {
   "codemirror_mode": {
    "name": "ipython",
    "version": 3
   },
   "file_extension": ".py",
   "mimetype": "text/x-python",
   "name": "python",
   "nbconvert_exporter": "python",
   "pygments_lexer": "ipython3",
   "version": "3.11.9"
  }
 },
 "nbformat": 4,
 "nbformat_minor": 2
}
