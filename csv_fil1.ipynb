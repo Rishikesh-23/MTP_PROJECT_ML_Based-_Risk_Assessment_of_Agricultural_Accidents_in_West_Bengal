{
 "cells": [
  {
   "cell_type": "code",
   "execution_count": 1,
   "metadata": {},
   "outputs": [
    {
     "name": "stdout",
     "output_type": "stream",
     "text": [
      "Pre-encoded dataset saved as 'fully_encoded_agricultural_accidents.csv'\n"
     ]
    }
   ],
   "source": [
    "import pandas as pd\n",
    "from sklearn.preprocessing import LabelEncoder\n",
    "\n",
    "# Original data\n",
    "data = {\n",
    "    'DistrictName': ['Nadia', 'Jalpaiguri', 'South Twenty Four Parganas', 'South Twenty Four Parganas', 'Jalpaiguri'],\n",
    "    'AccidentPlace': ['Farm Road', 'Field', 'Field', 'Field', 'Field'],\n",
    "    'Gender': ['Male', 'Male', 'Female', 'Female', 'Male'],\n",
    "    'CatDesc': ['Thresher', 'Combine Harvester', 'Tractor', 'Tractor', 'Combine Harvester'],\n",
    "    'SubCatDesc': ['Type C', 'Type B', 'Type D', 'Type A', 'Type A'],\n",
    "    'EquipmentName': ['Thresher Model Z', 'Thresher Model Z', 'Tractor Model X', 'Tractor Model X', 'Harvester Model Y'],\n",
    "    'CauseOfAccident': ['Overturning', 'Overturning', 'Falling', 'Overturning', 'Entanglement'],\n",
    "    'Reason': ['Mechanical Failure', 'Mechanical Failure', 'Weather Conditions', 'Operator Error', 'Operator Error'],\n",
    "    'AccidentType': ['Non-Fatal', 'Non-Fatal', 'Fatal', 'Non-Fatal', 'Fatal']\n",
    "}\n",
    "\n",
    "# Convert to DataFrame\n",
    "df = pd.DataFrame(data)\n",
    "\n",
    "# Encode all categorical variables\n",
    "encoder = LabelEncoder()\n",
    "for column in df.columns:\n",
    "    df[column] = encoder.fit_transform(df[column])\n",
    "\n",
    "# Save the pre-encoded dataset to a CSV file\n",
    "encoded_file_path = 'fully_encoded_agricultural_accidents.csv'\n",
    "df.to_csv(encoded_file_path, index=False)\n",
    "\n",
    "print(f\"Pre-encoded dataset saved as '{encoded_file_path}'\")\n"
   ]
  },
  {
   "cell_type": "code",
   "execution_count": null,
   "metadata": {},
   "outputs": [],
   "source": []
  }
 ],
 "metadata": {
  "kernelspec": {
   "display_name": "base",
   "language": "python",
   "name": "python3"
  },
  "language_info": {
   "codemirror_mode": {
    "name": "ipython",
    "version": 3
   },
   "file_extension": ".py",
   "mimetype": "text/x-python",
   "name": "python",
   "nbconvert_exporter": "python",
   "pygments_lexer": "ipython3",
   "version": "3.11.9"
  }
 },
 "nbformat": 4,
 "nbformat_minor": 2
}
