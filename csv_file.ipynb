{
 "cells": [
  {
   "cell_type": "code",
   "execution_count": 1,
   "metadata": {},
   "outputs": [
    {
     "name": "stdout",
     "output_type": "stream",
     "text": [
      "Sample dataset saved to sample_agricultural_accidents.csv\n"
     ]
    }
   ],
   "source": [
    "import pandas as pd\n",
    "import random\n",
    "\n",
    "# Define the number of rows for the dataset\n",
    "num_rows = 1000\n",
    "\n",
    "# Generate random data\n",
    "data = {\n",
    "    \"DistrictName\": random.choices(\n",
    "        [\"Jalpaiguri\", \"Nadia\", \"South Twenty Four Parganas\"], k=num_rows\n",
    "    ),\n",
    "    \"AccidentTime\": random.choices(\n",
    "        [\"Morning\", \"Afternoon\", \"Evening\", \"Night\"], k=num_rows\n",
    "    ),\n",
    "    \"AccidentPlace\": random.choices([\"Field\", \"Farm Road\", \"Market\"], k=num_rows),\n",
    "    \"Gender\": random.choices([\"Male\", \"Female\"], k=num_rows),\n",
    "    \"CatDesc\": random.choices([\"Tractor\", \"Thresher\", \"Combine Harvester\"], k=num_rows),\n",
    "    \"SubCatDesc\": random.choices(\n",
    "        [\"Type A\", \"Type B\", \"Type C\", \"Type D\"], k=num_rows\n",
    "    ),\n",
    "    \"EquipmentName\": random.choices(\n",
    "        [\"Tractor Model X\", \"Harvester Model Y\", \"Thresher Model Z\"], k=num_rows\n",
    "    ),\n",
    "    \"CauseOfAccident\": random.choices(\n",
    "        [\"Overturning\", \"Falling\", \"Collision\", \"Entanglement\"], k=num_rows\n",
    "    ),\n",
    "    \"Reason\": random.choices(\n",
    "        [\"Operator Error\", \"Mechanical Failure\", \"Weather Conditions\"], k=num_rows\n",
    "    ),\n",
    "    \"AccidentType\": random.choices(\n",
    "        [\"Fatal\", \"Non-Fatal\"], weights=[0.3, 0.7], k=num_rows\n",
    "    ),\n",
    "}\n",
    "\n",
    "# Create a DataFrame\n",
    "df = pd.DataFrame(data)\n",
    "\n",
    "# Save the DataFrame to a CSV file\n",
    "file_path = \"sample_agricultural_accidents.csv\"\n",
    "df.to_csv(file_path, index=False)\n",
    "print(f\"Sample dataset saved to {file_path}\")\n"
   ]
  },
  {
   "cell_type": "code",
   "execution_count": null,
   "metadata": {},
   "outputs": [],
   "source": []
  },
  {
   "cell_type": "code",
   "execution_count": null,
   "metadata": {},
   "outputs": [],
   "source": []
  },
  {
   "cell_type": "code",
   "execution_count": null,
   "metadata": {},
   "outputs": [],
   "source": []
  }
 ],
 "metadata": {
  "kernelspec": {
   "display_name": "base",
   "language": "python",
   "name": "python3"
  },
  "language_info": {
   "codemirror_mode": {
    "name": "ipython",
    "version": 3
   },
   "file_extension": ".py",
   "mimetype": "text/x-python",
   "name": "python",
   "nbconvert_exporter": "python",
   "pygments_lexer": "ipython3",
   "version": "3.11.9"
  }
 },
 "nbformat": 4,
 "nbformat_minor": 2
}
